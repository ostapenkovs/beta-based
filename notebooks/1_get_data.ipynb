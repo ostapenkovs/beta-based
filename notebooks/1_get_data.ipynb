{
 "cells": [
  {
   "cell_type": "code",
   "execution_count": 51,
   "metadata": {},
   "outputs": [],
   "source": [
    "import pickle\n",
    "import os\n",
    "from dotenv import load_dotenv\n",
    "import wrds\n",
    "import numpy as np\n",
    "from numpy import log, log1p, exp, sqrt\n",
    "import pandas as pd\n",
    "import matplotlib.pyplot as plt\n",
    "import seaborn as sns\n",
    "\n",
    "load_dotenv()\n",
    "PGUSER = os.getenv('PGUSER')\n",
    "PGPASSWORD = os.getenv('PGPASSWORD')\n",
    "\n",
    "ANN_FACTOR = 5"
   ]
  },
  {
   "cell_type": "markdown",
   "metadata": {},
   "source": [
    "Getting data"
   ]
  },
  {
   "cell_type": "code",
   "execution_count": 52,
   "metadata": {},
   "outputs": [
    {
     "name": "stdout",
     "output_type": "stream",
     "text": [
      "Loading library list...\n",
      "Done\n"
     ]
    }
   ],
   "source": [
    "conn = wrds.Connection()"
   ]
  },
  {
   "cell_type": "code",
   "execution_count": 53,
   "metadata": {},
   "outputs": [],
   "source": [
    "# %%time\n",
    "# conn.get_table(library='crsp', table='dsp500list', rows=10)\n",
    "# conn.get_table(library='crsp', table='dsf', rows=10)\n",
    "\n",
    "# getting DAILY returns for SP500 constituents + date range of their belonging to SP500\n",
    "start_date = '01/01/2003'\n",
    "df = conn.raw_sql(\n",
    "        f\"select a.*, b.date, b.ret \\\n",
    "        from crsp.dsp500list as a, \\\n",
    "        crsp.dsf as b \\\n",
    "        where a.permno = b.permno \\\n",
    "        and b.date >= a.start and b.date <= a.ending \\\n",
    "        and b.date >= '{start_date}'\", date_cols=['start', 'ending', 'date']\n",
    "    )\n",
    "\n",
    "# getting additional company attributes / identifiers\n",
    "temp = conn.raw_sql(\n",
    "    \"\"\"select namedt, nameendt, permno, shrcd, exchcd, ticker\n",
    "        from crsp.dsenames\"\"\", date_cols=['namedt', 'nameendt']\n",
    "    )\n",
    "\n",
    "# merging, subsetting\n",
    "df = df.merge(temp, how='inner', on='permno')\n",
    "temp = None\n",
    "\n",
    "# return date is between the range for which company name was used\n",
    "df = df.loc[(df.date >= df.namedt) & (df.date <= df.nameendt)]\n",
    "\n",
    "# for exchcd (exchange code) we have 1: NYSE, 2: NYSE MKT, 3: NASDAQ, 4: ARCA\n",
    "# for shrcd (share code) we have 11: ordinary common shares, need no further definition, US incorporated\n",
    "df = df.loc[(df.exchcd.isin((1, 2, 3, 4))) & (df.shrcd == 11)]\n",
    "\n",
    "df.drop(['namedt', 'nameendt', 'shrcd', 'exchcd'], axis=1, inplace=True)"
   ]
  },
  {
   "cell_type": "code",
   "execution_count": 54,
   "metadata": {},
   "outputs": [
    {
     "data": {
      "text/html": [
       "<div>\n",
       "<style scoped>\n",
       "    .dataframe tbody tr th:only-of-type {\n",
       "        vertical-align: middle;\n",
       "    }\n",
       "\n",
       "    .dataframe tbody tr th {\n",
       "        vertical-align: top;\n",
       "    }\n",
       "\n",
       "    .dataframe thead th {\n",
       "        text-align: right;\n",
       "    }\n",
       "</style>\n",
       "<table border=\"1\" class=\"dataframe\">\n",
       "  <thead>\n",
       "    <tr style=\"text-align: right;\">\n",
       "      <th></th>\n",
       "      <th>permno</th>\n",
       "      <th>start</th>\n",
       "      <th>ending</th>\n",
       "      <th>date</th>\n",
       "      <th>ret</th>\n",
       "      <th>ticker</th>\n",
       "    </tr>\n",
       "  </thead>\n",
       "  <tbody>\n",
       "    <tr>\n",
       "      <th>0</th>\n",
       "      <td>10078</td>\n",
       "      <td>1992-08-20</td>\n",
       "      <td>2010-01-28</td>\n",
       "      <td>2003-01-02</td>\n",
       "      <td>0.086817</td>\n",
       "      <td>SUNW</td>\n",
       "    </tr>\n",
       "    <tr>\n",
       "      <th>5</th>\n",
       "      <td>10078</td>\n",
       "      <td>1992-08-20</td>\n",
       "      <td>2010-01-28</td>\n",
       "      <td>2003-01-03</td>\n",
       "      <td>0.050296</td>\n",
       "      <td>SUNW</td>\n",
       "    </tr>\n",
       "    <tr>\n",
       "      <th>10</th>\n",
       "      <td>10078</td>\n",
       "      <td>1992-08-20</td>\n",
       "      <td>2010-01-28</td>\n",
       "      <td>2003-01-06</td>\n",
       "      <td>0.056338</td>\n",
       "      <td>SUNW</td>\n",
       "    </tr>\n",
       "    <tr>\n",
       "      <th>15</th>\n",
       "      <td>10078</td>\n",
       "      <td>1992-08-20</td>\n",
       "      <td>2010-01-28</td>\n",
       "      <td>2003-01-07</td>\n",
       "      <td>0.013333</td>\n",
       "      <td>SUNW</td>\n",
       "    </tr>\n",
       "    <tr>\n",
       "      <th>20</th>\n",
       "      <td>10078</td>\n",
       "      <td>1992-08-20</td>\n",
       "      <td>2010-01-28</td>\n",
       "      <td>2003-01-08</td>\n",
       "      <td>-0.063158</td>\n",
       "      <td>SUNW</td>\n",
       "    </tr>\n",
       "  </tbody>\n",
       "</table>\n",
       "</div>"
      ],
      "text/plain": [
       "    permno      start     ending       date       ret ticker\n",
       "0    10078 1992-08-20 2010-01-28 2003-01-02  0.086817   SUNW\n",
       "5    10078 1992-08-20 2010-01-28 2003-01-03  0.050296   SUNW\n",
       "10   10078 1992-08-20 2010-01-28 2003-01-06  0.056338   SUNW\n",
       "15   10078 1992-08-20 2010-01-28 2003-01-07  0.013333   SUNW\n",
       "20   10078 1992-08-20 2010-01-28 2003-01-08 -0.063158   SUNW"
      ]
     },
     "execution_count": 54,
     "metadata": {},
     "output_type": "execute_result"
    }
   ],
   "source": [
    "# permno: permanent code for security (guaranteed to not change versus something like ticker)\n",
    "# start, ending: start and end dates of SP500 membership\n",
    "# date, ret: daily return for stock on given date\n",
    "df.head(5)"
   ]
  },
  {
   "cell_type": "code",
   "execution_count": 55,
   "metadata": {},
   "outputs": [],
   "source": [
    "# caldt  := calendar date\n",
    "# ewretd := equal-weighted market portfolio return\n",
    "# vwretd := value-weighted market portfolio return\n",
    "# sprtrn := SP500 return\n",
    "sp500 = conn.get_table(library='crsp', table='dsp500', columns=['caldt', 'vwretd', 'ewretd', 'sprtrn'], date_cols=['caldt'])"
   ]
  },
  {
   "cell_type": "markdown",
   "metadata": {},
   "source": [
    "Sanity Check: manual equal-weighted portfolio construction and correlation"
   ]
  },
  {
   "cell_type": "code",
   "execution_count": 56,
   "metadata": {},
   "outputs": [],
   "source": [
    "df.dropna(how='any', axis=0, inplace=True); sp500.dropna(how='any', axis=0, inplace=True)\n",
    "df.reset_index(drop=True, inplace=True); sp500.reset_index(drop=True, inplace=True)"
   ]
  },
  {
   "cell_type": "code",
   "execution_count": 57,
   "metadata": {},
   "outputs": [],
   "source": [
    "# equal weighted portfolio (manual)\n",
    "s1 = df.groupby('date').ret.apply(lambda x: x.mean()).to_frame()\n",
    "\n",
    "# equal weighted portfolio (given)\n",
    "s2 = sp500.loc[:, ['caldt', 'ewretd']]\n",
    "s2['ewretd'] = s2.ewretd.astype(float)\n",
    "s2.set_index('caldt', inplace=True)\n",
    "s2.index.name = 'date'\n",
    "\n",
    "temp = pd.merge(s1, s2, how='inner', left_index=True, right_index=True).sort_index()\n",
    "s1 = s2 = None"
   ]
  },
  {
   "cell_type": "code",
   "execution_count": 58,
   "metadata": {},
   "outputs": [
    {
     "data": {
      "text/html": [
       "<div>\n",
       "<style scoped>\n",
       "    .dataframe tbody tr th:only-of-type {\n",
       "        vertical-align: middle;\n",
       "    }\n",
       "\n",
       "    .dataframe tbody tr th {\n",
       "        vertical-align: top;\n",
       "    }\n",
       "\n",
       "    .dataframe thead th {\n",
       "        text-align: right;\n",
       "    }\n",
       "</style>\n",
       "<table border=\"1\" class=\"dataframe\">\n",
       "  <thead>\n",
       "    <tr style=\"text-align: right;\">\n",
       "      <th></th>\n",
       "      <th>ret</th>\n",
       "      <th>ewretd</th>\n",
       "    </tr>\n",
       "  </thead>\n",
       "  <tbody>\n",
       "    <tr>\n",
       "      <th>ret</th>\n",
       "      <td>1.00000</td>\n",
       "      <td>0.99929</td>\n",
       "    </tr>\n",
       "    <tr>\n",
       "      <th>ewretd</th>\n",
       "      <td>0.99929</td>\n",
       "      <td>1.00000</td>\n",
       "    </tr>\n",
       "  </tbody>\n",
       "</table>\n",
       "</div>"
      ],
      "text/plain": [
       "            ret   ewretd\n",
       "ret     1.00000  0.99929\n",
       "ewretd  0.99929  1.00000"
      ]
     },
     "execution_count": 58,
     "metadata": {},
     "output_type": "execute_result"
    }
   ],
   "source": [
    "temp.corr()"
   ]
  },
  {
   "cell_type": "code",
   "execution_count": 59,
   "metadata": {},
   "outputs": [
    {
     "data": {
      "image/png": "[encoded data removed]",
      "text/plain": [
       "<Figure size 1200x400 with 2 Axes>"
      ]
     },
     "metadata": {},
     "output_type": "display_data"
    }
   ],
   "source": [
    "fig, ax = plt.subplots(1, 2, figsize=(12, 4))\n",
    "sns.lineplot(x=temp.index, y=temp.ret - temp.ewretd, ax=ax[0], label='ret - ewretd', color='red')\n",
    "sns.histplot(temp.ret - temp.ewretd, ax=ax[1], bins=50, alpha=0.7, label='ret - ewretd')\n",
    "ax[0].set_ylabel('Manual - DB EW return')\n",
    "fig.autofmt_xdate()\n",
    "plt.tight_layout(); plt.show()"
   ]
  },
  {
   "cell_type": "code",
   "execution_count": 60,
   "metadata": {},
   "outputs": [],
   "source": [
    "temp = None\n",
    "conn.close()"
   ]
  },
  {
   "cell_type": "markdown",
   "metadata": {},
   "source": [
    "Finalizing and exporting data"
   ]
  },
  {
   "cell_type": "code",
   "execution_count": 64,
   "metadata": {},
   "outputs": [],
   "source": [
    "# first converting to log returns (aggregate linearly over time, unlike simple returns)\n",
    "df['ret'] = log1p(df.ret)\n",
    "\n",
    "for col in ('vwretd', 'ewretd', 'sprtrn'):\n",
    "    sp500[col] = log1p(sp500[col].astype(float))"
   ]
  },
  {
   "cell_type": "code",
   "execution_count": 67,
   "metadata": {},
   "outputs": [
    {
     "name": "stdout",
     "output_type": "stream",
     "text": [
      "CPU times: user 5min 4s, sys: 79.1 ms, total: 5min 4s\n",
      "Wall time: 5min 4s\n"
     ]
    }
   ],
   "source": [
    "%%time\n",
    "# computing mean daily log return over a week (+ pulling other columns again)\n",
    "sp500 = sp500.resample('W', on='caldt').apply({col: 'mean' for col in ('vwretd', 'ewretd', 'sprtrn')})\n",
    "\n",
    "df = df.groupby('permno').resample('W', on='date').apply({\n",
    "        'start': 'last', 'ending': 'last', 'ticker': 'last', 'ret': 'mean'\n",
    "    })"
   ]
  },
  {
   "cell_type": "code",
   "execution_count": 78,
   "metadata": {},
   "outputs": [],
   "source": [
    "# converting mean daily log return to weekly simple return\n",
    "sp500 = exp(sp500 * ANN_FACTOR) - 1\n",
    "df['ret'] = exp(df.ret * ANN_FACTOR) - 1"
   ]
  },
  {
   "cell_type": "code",
   "execution_count": 82,
   "metadata": {},
   "outputs": [],
   "source": [
    "df = df.reset_index().dropna(how='any')"
   ]
  },
  {
   "cell_type": "code",
   "execution_count": 83,
   "metadata": {},
   "outputs": [],
   "source": [
    "with open('./data/stocks.pkl', 'wb') as f:\n",
    "    pickle.dump(df, f)\n",
    "\n",
    "with open('./data/market.pkl', 'wb') as f:\n",
    "    pickle.dump(sp500, f)"
   ]
  }
 ],
 "metadata": {
  "kernelspec": {
   "display_name": "myenv",
   "language": "python",
   "name": "python3"
  },
  "language_info": {
   "codemirror_mode": {
    "name": "ipython",
    "version": 3
   },
   "file_extension": ".py",
   "mimetype": "text/x-python",
   "name": "python",
   "nbconvert_exporter": "python",
   "pygments_lexer": "ipython3",
   "version": "3.10.14"
  }
 },
 "nbformat": 4,
 "nbformat_minor": 2
}
